{
 "cells": [
  {
   "cell_type": "code",
   "execution_count": null,
   "id": "644963c6-f91b-41a7-8551-d30cb2db5fb1",
   "metadata": {},
   "outputs": [],
   "source": [
    "import numpy as np\n",
    "import astropy.units as u\n",
    "import astropy.constants as con\n",
    "import emcee\n",
    "import corner\n",
    "import speclite as speclite; from speclite import filters\n",
    "import matplotlib.pyplot as plt\n",
    "from tqdm import tqdm\n",
    "from matplotlib import cm\n",
    "from matplotlib.artist import Artist\n",
    "from chromatic import *\n",
    "from scipy.optimize import minimize\n",
    "from scipy.optimize import curve_fit\n",
    "\n",
    "\n",
    "params = {'legend.fontsize': 'x-large',\n",
    "          'figure.figsize': (6, 4),\n",
    "         'axes.labelsize': 'x-large',\n",
    "         'axes.titlesize':'x-large',\n",
    "         'xtick.labelsize':'x-large',\n",
    "         'ytick.labelsize':'x-large'}\n",
    "plt.rcParams.update(params)\n",
    "plt.style.use('seaborn-deep')"
   ]
  },
  {
   "cell_type": "markdown",
   "id": "22c89960-137e-4219-b9db-1c2811a2a839",
   "metadata": {},
   "source": [
    "## Calculate the scale height"
   ]
  },
  {
   "cell_type": "code",
   "execution_count": null,
   "id": "4a1a59f0-f2fa-4753-b6b1-e7373200ee11",
   "metadata": {},
   "outputs": [],
   "source": [
    "AB = 0.3 #bond albedo\n",
    "Teff = 3600\n",
    "#Teq = ((1-AB)*Teff**4)**(1/4) * u.K #600 * u.K \n",
    "Teq = 600 * u.K \n",
    "Rp = 4.15 * u.R_earth\n",
    "Mp = 17 * u.M_earth # other listed values are 11 and 20 Me\n",
    "mu = 10 # that's for an H2 atmosphere\n",
    "transit_depth = 0.0512**2\n",
    "deltaD_atm = (2*con.k_B*Teq*Rp*transit_depth) / (mu * con.m_p * con.G * Mp)"
   ]
  },
  {
   "cell_type": "code",
   "execution_count": null,
   "id": "83372366-1fcb-4c83-8bea-db38246fcaa4",
   "metadata": {},
   "outputs": [],
   "source": [
    "one_scale_height = deltaD_atm.decompose()"
   ]
  },
  {
   "cell_type": "code",
   "execution_count": null,
   "id": "7ee541d9-21c0-49db-af98-0e9ed0f9c930",
   "metadata": {},
   "outputs": [],
   "source": [
    "Rp = one_scale_height/transit_depth + 1\n",
    "print(Rp)"
   ]
  },
  {
   "cell_type": "markdown",
   "id": "8f08d427-0604-4a9a-97ce-9821bc95c240",
   "metadata": {},
   "source": [
    "## Calculate AU Mic's T$_{\\rm{eff}}\\pm\\sigma$T$_{\\rm{eff}}$ based on observed luminosity and radius"
   ]
  },
  {
   "cell_type": "code",
   "execution_count": null,
   "id": "ac1cab76-899f-4d0b-bf52-0d1f375cb086",
   "metadata": {},
   "outputs": [],
   "source": [
    "L = np.random.normal(0.09,0.02,100000) # Plavchan+ 2009\n",
    "R = np.random.normal(0.862,0.052,100000) # VLTI measurement\n",
    "Teff = 5780.0*((L/(R**2))**(1./4.))"
   ]
  },
  {
   "cell_type": "code",
   "execution_count": null,
   "id": "8d6d44ce-6c7e-42c6-997b-d2a14ca5ce73",
   "metadata": {},
   "outputs": [],
   "source": [
    "np.median(Teff)"
   ]
  },
  {
   "cell_type": "code",
   "execution_count": null,
   "id": "2adb467d-8590-4020-b10f-c231e7d8c0d2",
   "metadata": {},
   "outputs": [],
   "source": [
    "np.percentile(Teff, [15.9, 50., 84.1])"
   ]
  },
  {
   "cell_type": "markdown",
   "id": "31630779-9ca6-4d1f-a874-3d0a999b8832",
   "metadata": {},
   "source": [
    "## Calculate the Doppler-broadened linewidth, $\\Delta\\lambda$"
   ]
  },
  {
   "cell_type": "code",
   "execution_count": null,
   "id": "6c8e8ff2-2180-4b1f-a08a-54cabd93a835",
   "metadata": {},
   "outputs": [],
   "source": [
    "vsini = 8.0 * u.km/u.s # from vsini\n",
    "lambda_i = np.linspace(0.55,0.89,100)*u.micron\n",
    "delta_lambda = lambda_i * ( (vsini/con.c)/(1.0+(vsini/con.c)) )\n",
    "delta_lambda = (delta_lambda.decompose()) * 1e9 * u.nm/u.m\n",
    "\n",
    "plt.figure()\n",
    "plt.plot(lambda_i,delta_lambda)\n",
    "plt.xlabel(r'$\\lambda_0$ ($\\mu$m)')\n",
    "plt.ylabel(r'$\\Delta\\lambda$ (nm)')"
   ]
  },
  {
   "cell_type": "markdown",
   "id": "cd994839-888c-4bc0-8d76-d21eff385540",
   "metadata": {},
   "source": [
    "with Doppler broadening around 0.015-0.024 nm in the NRES bandpass, it is appropriate for us to continue binning the spectra to 0.05 nm so that our binsize accounts for doppler broadening"
   ]
  },
  {
   "cell_type": "code",
   "execution_count": null,
   "id": "9d080a12-4ce8-483f-9ecc-46d8343fde23",
   "metadata": {},
   "outputs": [],
   "source": []
  }
 ],
 "metadata": {
  "kernelspec": {
   "display_name": "Python 3 (ipykernel)",
   "language": "python",
   "name": "python3"
  },
  "language_info": {
   "codemirror_mode": {
    "name": "ipython",
    "version": 3
   },
   "file_extension": ".py",
   "mimetype": "text/x-python",
   "name": "python",
   "nbconvert_exporter": "python",
   "pygments_lexer": "ipython3",
   "version": "3.9.13"
  }
 },
 "nbformat": 4,
 "nbformat_minor": 5
}
