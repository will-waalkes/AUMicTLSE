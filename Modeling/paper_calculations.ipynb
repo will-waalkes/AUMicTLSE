{
 "cells": [
  {
   "cell_type": "code",
   "execution_count": null,
   "id": "644963c6-f91b-41a7-8551-d30cb2db5fb1",
   "metadata": {},
   "outputs": [],
   "source": [
    "import numpy as np\n",
    "import astropy.units as u\n",
    "import astropy.constants as con\n",
    "import emcee\n",
    "import corner\n",
    "import speclite as speclite; from speclite import filters\n",
    "import matplotlib.pyplot as plt\n",
    "from tqdm import tqdm\n",
    "from matplotlib import cm\n",
    "from matplotlib.artist import Artist\n",
    "from chromatic import *\n",
    "from scipy.optimize import minimize\n",
    "from scipy.optimize import curve_fit\n",
    "\n",
    "\n",
    "params = {'legend.fontsize': 'x-large',\n",
    "          'figure.figsize': (6, 4),\n",
    "         'axes.labelsize': 'x-large',\n",
    "         'axes.titlesize':'x-large',\n",
    "         'xtick.labelsize':'x-large',\n",
    "         'ytick.labelsize':'x-large'}\n",
    "plt.rcParams.update(params)\n",
    "plt.style.use('seaborn-deep')"
   ]
  },
  {
   "cell_type": "markdown",
   "id": "22c89960-137e-4219-b9db-1c2811a2a839",
   "metadata": {},
   "source": [
    "## Calculate the scale height"
   ]
  },
  {
   "cell_type": "code",
   "execution_count": null,
   "id": "4a1a59f0-f2fa-4753-b6b1-e7373200ee11",
   "metadata": {},
   "outputs": [],
   "source": [
    "AB = 0.3 #bond albedo\n",
    "Teff = 3600\n",
    "#Teq = ((1-AB)*Teff**4)**(1/4) * u.K #600 * u.K \n",
    "Teq = 600 * u.K \n",
    "Rp = 4.15 * u.R_earth\n",
    "Mp = 17 * u.M_earth # other listed values are 11 and 20 Me\n",
    "mu = 10 # that's for an H2 atmosphere\n",
    "transit_depth = 0.0512**2\n",
    "deltaD_atm = (2*con.k_B*Teq*Rp*transit_depth) / (mu * con.m_p * con.G * Mp)"
   ]
  },
  {
   "cell_type": "code",
   "execution_count": null,
   "id": "83372366-1fcb-4c83-8bea-db38246fcaa4",
   "metadata": {},
   "outputs": [],
   "source": [
    "one_scale_height = deltaD_atm.decompose()"
   ]
  },
  {
   "cell_type": "code",
   "execution_count": null,
   "id": "7ee541d9-21c0-49db-af98-0e9ed0f9c930",
   "metadata": {},
   "outputs": [],
   "source": [
    "Rp = one_scale_height/transit_depth + 1\n",
    "print(Rp)"
   ]
  },
  {
   "cell_type": "markdown",
   "id": "8f08d427-0604-4a9a-97ce-9821bc95c240",
   "metadata": {},
   "source": [
    "## Calculate AU Mic's T$_{\\rm{eff}}\\pm\\sigma$T$_{\\rm{eff}}$ based on observed luminosity and radius"
   ]
  },
  {
   "cell_type": "code",
   "execution_count": null,
   "id": "ac1cab76-899f-4d0b-bf52-0d1f375cb086",
   "metadata": {},
   "outputs": [],
   "source": [
    "L = np.random.normal(0.09,0.02,100000) # Plavchan+ 2009\n",
    "R = np.random.normal(0.862,0.052,100000) # VLTI measurement\n",
    "Teff = 5780.0*((L/(R**2))**(1./4.))"
   ]
  },
  {
   "cell_type": "code",
   "execution_count": null,
   "id": "8d6d44ce-6c7e-42c6-997b-d2a14ca5ce73",
   "metadata": {},
   "outputs": [],
   "source": [
    "np.median(Teff)"
   ]
  },
  {
   "cell_type": "code",
   "execution_count": null,
   "id": "2adb467d-8590-4020-b10f-c231e7d8c0d2",
   "metadata": {},
   "outputs": [],
   "source": [
    "np.percentile(Teff, [15.9, 50., 84.1])"
   ]
  },
  {
   "cell_type": "markdown",
   "id": "31630779-9ca6-4d1f-a874-3d0a999b8832",
   "metadata": {},
   "source": [
    "## Calculate the Doppler-broadened linewidth, $\\Delta\\lambda$"
   ]
  },
  {
   "cell_type": "code",
   "execution_count": null,
   "id": "6c8e8ff2-2180-4b1f-a08a-54cabd93a835",
   "metadata": {},
   "outputs": [],
   "source": [
    "vsini = 8.0 * u.km/u.s # from vsini\n",
    "lambda_i = np.linspace(0.55,0.89,100)*u.micron\n",
    "delta_lambda = lambda_i * ( (vsini/con.c)/(1.0+(vsini/con.c)) )\n",
    "delta_lambda = (delta_lambda.decompose()) * 1e9 * u.nm/u.m\n",
    "\n",
    "plt.figure()\n",
    "plt.plot(lambda_i,delta_lambda)\n",
    "plt.xlabel(r'$\\lambda_0$ ($\\mu$m)')\n",
    "plt.ylabel(r'$\\Delta\\lambda$ (nm)')"
   ]
  },
  {
   "cell_type": "markdown",
   "id": "cd994839-888c-4bc0-8d76-d21eff385540",
   "metadata": {},
   "source": [
    "with Doppler broadening around 0.015-0.024 nm in the NRES bandpass, it is appropriate for us to continue binning the spectra to 0.05 nm so that our binsize accounts for doppler broadening"
   ]
  },
  {
   "cell_type": "code",
   "execution_count": null,
   "id": "ff687a70-8263-4e0b-9fc3-dc364d5af932",
   "metadata": {},
   "outputs": [],
   "source": [
    "import numpy as np\n",
    "from scipy import stats\n",
    "import statsmodels.api as sm\n",
    "import matplotlib.pyplot as plt\n",
    "from statsmodels.distributions.mixture_rvs import mixture_rvs"
   ]
  },
  {
   "cell_type": "code",
   "execution_count": null,
   "id": "9d080a12-4ce8-483f-9ecc-46d8343fde23",
   "metadata": {},
   "outputs": [],
   "source": [
    "nsteps = 3000\n",
    "modeltype = f'Final_Teff_Phot_Spec'\n",
    "modelname = 'Teff + Phot + Spec'\n",
    "visits = ['combined']\n",
    "orders_I_care_about = [53,58,61,76]\n",
    "\n",
    "f_kde = [0,0,0,0]\n",
    "df_kde = [0,0,0,0]\n",
    "Tspot_kde =[0,0,0,0]             \n",
    "Tamb_kde = [0,0,0,0]             \n",
    "Trat_kde = [0,0,0,0]             \n",
    "\n",
    "i=0\n",
    "for order in orders_I_care_about:\n",
    "    visit = visits[0]\n",
    "    label = f'{visit}_{order}_{modeltype}'\n",
    "    samples_file_label = label+f'_{nsteps}steps'\n",
    "    '''\n",
    "    READ IN THE MCMC SAMPLES\n",
    "    '''\n",
    "    reader = emcee.backends.HDFBackend(f'../data/samples/{samples_file_label}.h5')\n",
    "    sampler = reader.get_chain(discard=int(0.25*nsteps), flat=True)\n",
    "    samples = sampler.reshape((-1, 4)).T\n",
    "    \n",
    "    kde = sm.nonparametric.KDEUnivariate(samples[0])\n",
    "    kde.fit()  # Estimate the densities\n",
    "    f_kde[i] = kde\n",
    "\n",
    "    kde = sm.nonparametric.KDEUnivariate(samples[1])\n",
    "    kde.fit()  # Estimate the densities\n",
    "    df_kde[i] = kde   \n",
    "\n",
    "    kde = sm.nonparametric.KDEUnivariate(samples[2])\n",
    "    kde.fit()  # Estimate the densities\n",
    "    Tspot_kde[i] = kde              \n",
    "\n",
    "    kde = sm.nonparametric.KDEUnivariate(samples[3])\n",
    "    kde.fit()  # Estimate the densities\n",
    "    Tamb_kde[i] = kde\n",
    "    \n",
    "    kde = sm.nonparametric.KDEUnivariate(samples[2]/samples[3])\n",
    "    kde.fit()  # Estimate the densities\n",
    "    Trat_kde[i] = kde\n",
    "    \n",
    "    i+=1"
   ]
  },
  {
   "cell_type": "code",
   "execution_count": null,
   "id": "121ae678-f5a7-4b84-bc07-6adef9b419f2",
   "metadata": {},
   "outputs": [],
   "source": [
    "f_density = [0,0,0,0]\n",
    "df_density = [0,0,0,0]\n",
    "Tspot_density = [0,0,0,0]\n",
    "Tamb_density = [0,0,0,0]\n",
    "Trat_density = [0,0,0,0]\n",
    "\n",
    "ref_f_array = np.linspace(0.1,0.5,500)\n",
    "ref_df_array = np.linspace(0.01,0.15,500)\n",
    "ref_Tspot_array = np.linspace(2700,3800,500)\n",
    "ref_Tamb_array = np.linspace(3600,4100,500)\n",
    "ref_Trat_array = np.linspace(0.6,1.2,500)\n",
    "\n",
    "i = 0\n",
    "for i in range(len(f_density)):\n",
    "   \n",
    "    interp_f = np.interp(ref_f_array,f_kde[i].support,f_kde[i].density)\n",
    "    interp_df = np.interp(ref_df_array,df_kde[i].support,df_kde[i].density)\n",
    "    interp_Tspot = np.interp(ref_Tspot_array,Tspot_kde[i].support,Tspot_kde[i].density)\n",
    "    interp_Tamb = np.interp(ref_Tamb_array,Tamb_kde[i].support,Tamb_kde[i].density)\n",
    "    interp_Trat = np.interp(ref_Trat_array,Trat_kde[i].support,Trat_kde[i].density)\n",
    "    \n",
    "    f_density[i] = interp_f\n",
    "    df_density[i] = interp_df\n",
    "    Tspot_density[i] = interp_Tspot\n",
    "    Tamb_density[i] = interp_Tamb\n",
    "    Trat_density[i] = interp_Trat\n",
    "\n",
    "    i+=1"
   ]
  },
  {
   "cell_type": "code",
   "execution_count": null,
   "id": "cdbe75a2-ab9a-4ed3-b739-ac268fb34526",
   "metadata": {},
   "outputs": [],
   "source": [
    "f_posterior = np.prod(f_density,axis=0)\n",
    "df_posterior = np.prod(df_density,axis=0)\n",
    "Tspot_posterior = np.prod(Tspot_density,axis=0)\n",
    "Tamb_posterior = np.prod(Tamb_density,axis=0)\n",
    "Trat_posterior = np.prod(Trat_density,axis=0)\n"
   ]
  },
  {
   "cell_type": "code",
   "execution_count": null,
   "id": "cac86122-2d15-4581-a9d8-3995e429e0d4",
   "metadata": {},
   "outputs": [],
   "source": [
    "fig,axs = plt.subplots(3,1,figsize=(6,6))\n",
    "\n",
    "axs[0].plot(ref_f_array, f_posterior/np.sum(f_posterior), lw=3, zorder=10,color='k',label=r'$f_{\\rm spot}$',linestyle='--')\n",
    "axs[0].plot(ref_df_array, df_posterior/np.sum(df_posterior), lw=3, zorder=10,color='k',label=r'$\\Delta~f_{\\rm spot}$')\n",
    "axs[1].plot(ref_Tspot_array, Tspot_posterior/np.sum(Tspot_posterior), lw=3, zorder=10,color='k',label=r'$\\rm T_{spot}$',linestyle='--')\n",
    "axs[1].plot(ref_Tamb_array, Tamb_posterior/np.sum(Tamb_posterior), lw=3, zorder=10,color='k',label=r'$\\rm T_{amb}$')\n",
    "axs[2].plot(ref_Trat_array, Trat_posterior/np.sum(Trat_posterior), lw=3, zorder=10,color='k',label=r'$\\rm T_{spot}T_{amb}$')\n",
    "\n",
    "# axs[0].axvline(0.0535, lw=2, zorder=100,label='0.0535',color='coral')\n",
    "# axs[1].axvline(3450, lw=2, zorder=100,label='3450 K',color='red')\n",
    "# axs[1].axvline(3922, lw=2, zorder=100,label='3900 K',color='blue')\n",
    "# axs[1].axvline(3100, lw=2, zorder=100,label='3100 K',color='purple')\n",
    "\n",
    "axs[0].set_xlim(0.0,0.5)\n",
    "axs[0].set_xlabel(r'coverage fraction (f)')\n",
    "axs[1].set_xlim(2700,4200)\n",
    "axs[1].set_xlabel(r'T (K)')\n",
    "axs[2].set_xlim(0.6,1.2)\n",
    "axs[2].set_xlabel(r'$\\rm T_{spot}/T_{amb}$')\n",
    "\n",
    "axs[0].set(yticklabels=[])\n",
    "axs[1].set(yticklabels=[])\n",
    "axs[2].set(yticklabels=[])\n",
    "\n",
    "# axs[0].legend(loc='upper right',fontsize=9)\n",
    "# axs[1].legend(loc='upper left',fontsize=9)\n",
    "\n",
    "\n",
    "plt.savefig('posteriors.png')"
   ]
  },
  {
   "cell_type": "code",
   "execution_count": null,
   "id": "007114ca-5738-4d8b-844e-5c791eb50f4b",
   "metadata": {},
   "outputs": [],
   "source": []
  }
 ],
 "metadata": {
  "kernelspec": {
   "display_name": "Python 3 (ipykernel)",
   "language": "python",
   "name": "python3"
  },
  "language_info": {
   "codemirror_mode": {
    "name": "ipython",
    "version": 3
   },
   "file_extension": ".py",
   "mimetype": "text/x-python",
   "name": "python",
   "nbconvert_exporter": "python",
   "pygments_lexer": "ipython3",
   "version": "3.9.13"
  }
 },
 "nbformat": 4,
 "nbformat_minor": 5
}
