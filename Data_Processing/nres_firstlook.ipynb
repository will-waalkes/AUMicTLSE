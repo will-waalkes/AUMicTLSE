{
 "cells": [
  {
   "cell_type": "markdown",
   "id": "a9110a58",
   "metadata": {},
   "source": [
    "This notebook is a first look at the structure of NRES spectrum files."
   ]
  },
  {
   "cell_type": "code",
   "execution_count": null,
   "id": "143703c9",
   "metadata": {},
   "outputs": [],
   "source": [
    "import glob\n",
    "import matplotlib.pyplot as plt\n",
    "import numpy as np\n",
    "from astropy.io import fits"
   ]
  },
  {
   "cell_type": "markdown",
   "id": "1448d4c7",
   "metadata": {},
   "source": [
    "Here are all the files."
   ]
  },
  {
   "cell_type": "code",
   "execution_count": null,
   "id": "08cf71ef",
   "metadata": {},
   "outputs": [],
   "source": [
    "filenames = glob.glob('NRES/*e92-1d.fits.fz')\n",
    "filenames"
   ]
  },
  {
   "cell_type": "markdown",
   "id": "d14e358a",
   "metadata": {},
   "source": [
    "Let's load one file and look at its structure."
   ]
  },
  {
   "cell_type": "code",
   "execution_count": null,
   "id": "34535e5a",
   "metadata": {},
   "outputs": [],
   "source": [
    "f = filenames[6]\n",
    "hdu = fits.open(f)\n",
    "hdu.info()\n",
    "hdu['PRIMARY'].header['MJD-OBS']"
   ]
  },
  {
   "cell_type": "markdown",
   "id": "07f5e63c",
   "metadata": {},
   "source": [
    "The `PRIMARY` extension doesn't have any `.data` associated with it, but it has a header that's full of super useful information about the observation."
   ]
  },
  {
   "cell_type": "code",
   "execution_count": null,
   "id": "ffd5be60",
   "metadata": {
    "scrolled": true
   },
   "outputs": [],
   "source": [
    "hdu['PRIMARY'].header"
   ]
  },
  {
   "cell_type": "markdown",
   "id": "efa8d6be",
   "metadata": {},
   "source": [
    "The data are all contained in the `SPECTRUM` extension. There are a [few keywords in the data for each spectrum](https://banzai-nres.readthedocs.io/en/latest/banzai_nres/data-products.html#extracted-spectra) that we will be most interested in. \n",
    "\n",
    "+ ‘id’: Integer ID of the trace in this row. This corresponds to the number in the TRACE extension of the 2-D calibration products.\n",
    "+ ‘order’: Physical dispersion order of this trace.\n",
    "+ ‘fiber’: Fiber ID. The calibration fiber is always 1. The science fiber is either 0 or 2. The science fiber on the target can be determined from the ‘SCIFIBER’ keyword in the header.\n",
    "+ ‘wavelength’: Wavelength per pixel for this trace (Angstroms).\n",
    "+ ‘flux’: Extracted flux (counts). No blaze correction or continuum normalization is performed on this data.\n",
    "+ ‘uncertainty’: Formal uncertainty of the extracted flux propagated from the previous processing stages. No blaze correction or continuum normalization is performed on this data.\n",
    "+ ‘blaze’: Extracted estimate of the blaze function from the quartz lamp flat field.\n",
    "+ ‘blaze_error’: Formal uncertainties on the blaze due to the Poisson statistics in the quartz lamp flat field.\n",
    "+ ‘mask’: Bad pixels have values greater than zero.\n",
    "+ ‘normflux’: Extracted flux after the blaze and continuum have been divided out.\n",
    "+ ‘normuncertainty’: Formal uncertainty of the extracted pixels after scaling by the blaze and continuum."
   ]
  },
  {
   "cell_type": "code",
   "execution_count": null,
   "id": "c973af46",
   "metadata": {},
   "outputs": [],
   "source": [
    "len(hdu['SPECTRUM'].data)"
   ]
  },
  {
   "cell_type": "markdown",
   "id": "f562aebd",
   "metadata": {},
   "source": [
    "The spectrum file contains both the actual science spectrum (the flux of the star) and the calibration lamp spectrum (an internal calibration lamp used to figure out the wavelength solution of the spectrograph). Let's trim down to just the science spectra."
   ]
  },
  {
   "cell_type": "code",
   "execution_count": null,
   "id": "d6bf633b",
   "metadata": {},
   "outputs": [],
   "source": [
    "# which fiber contains the science spectrum? \n",
    "# (the other one contains the calibration data)\n",
    "science_fiber_id = hdu['PRIMARY'].header['SCIFIBER']\n",
    "is_science = hdu['SPECTRUM'].data['FIBER'] == science_fiber_id\n",
    "data = hdu['SPECTRUM'].data[is_science]"
   ]
  },
  {
   "cell_type": "code",
   "execution_count": null,
   "id": "94a0b3ec",
   "metadata": {},
   "outputs": [],
   "source": [
    "len(data)"
   ]
  },
  {
   "cell_type": "code",
   "execution_count": null,
   "id": "1ca647cc",
   "metadata": {},
   "outputs": [],
   "source": [
    "data.columns"
   ]
  },
  {
   "cell_type": "markdown",
   "id": "162101cf",
   "metadata": {},
   "source": [
    "Each row of `data` now corresponds to an individual echelle order. If we pick any one particular row, we'll get just data associated with that order. "
   ]
  },
  {
   "cell_type": "code",
   "execution_count": null,
   "id": "aca01d37",
   "metadata": {},
   "outputs": [],
   "source": [
    "# pick one particular row (indexed from 0)\n",
    "i = 0\n",
    "\n",
    "# trim to just that one row\n",
    "this_order = data[i]"
   ]
  },
  {
   "cell_type": "code",
   "execution_count": null,
   "id": "4921e2be",
   "metadata": {},
   "outputs": [],
   "source": [
    "this_order['ORDER']"
   ]
  },
  {
   "cell_type": "markdown",
   "id": "5eca49a0",
   "metadata": {},
   "source": [
    "Additionally, there is a `mask` defining which pixels within the row are \"good\" or not. Let's trim to just the data that aren't definitely bad:"
   ]
  },
  {
   "cell_type": "code",
   "execution_count": null,
   "id": "2dfcfa69",
   "metadata": {},
   "outputs": [],
   "source": [
    "# what does the \"good data\" mask look like? \n",
    "plt.figure(figsize=(8,3), dpi=300)\n",
    "plt.plot(this_order['MASK']);"
   ]
  },
  {
   "cell_type": "code",
   "execution_count": null,
   "id": "6369604d-364d-436f-92ca-f581d0bc97cb",
   "metadata": {},
   "outputs": [],
   "source": []
  }
 ],
 "metadata": {
  "kernelspec": {
   "display_name": "Python 3 (ipykernel)",
   "language": "python",
   "name": "python3"
  },
  "language_info": {
   "codemirror_mode": {
    "name": "ipython",
    "version": 3
   },
   "file_extension": ".py",
   "mimetype": "text/x-python",
   "name": "python",
   "nbconvert_exporter": "python",
   "pygments_lexer": "ipython3",
   "version": "3.9.13"
  }
 },
 "nbformat": 4,
 "nbformat_minor": 5
}
