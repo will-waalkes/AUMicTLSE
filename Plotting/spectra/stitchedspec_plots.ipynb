{
 "cells": [
  {
   "cell_type": "code",
   "execution_count": null,
   "id": "6ca6de28-57cf-4672-8799-c84b195e94dd",
   "metadata": {},
   "outputs": [],
   "source": [
    "import matplotlib.pyplot as plt\n",
    "import numpy as np\n",
    "import emcee as emcee\n",
    "import glob as glob\n",
    "from chromatic import *"
   ]
  },
  {
   "cell_type": "code",
   "execution_count": null,
   "id": "63113cfb-1bec-4e36-95c2-f7210957dc4f",
   "metadata": {},
   "outputs": [],
   "source": [
    "all_orders = [53,54,55,56,57,58,59,\n",
    "              60,61,62,63,64,65,66,67,68,69,\n",
    "              70,71,72,73,74,75,76,77,78,79,\n",
    "              80,81,82,83,84,85,86,87,88]\n",
    "visits = ['fall','spring']\n",
    "cmap = cm.get_cmap('magma', len(all_orders))\n",
    "colormap = cmap(np.linspace(0, 1, len(all_orders)))\n",
    "\n",
    "for visit in visits:\n",
    "    i = 0\n",
    "    plt.figure(figsize=(10,3))\n",
    "    plt.ylim(0,2.5)\n",
    "    plt.ylabel(f'Normalized Flux',fontsize='x-large')\n",
    "    plt.xlabel(r'Wavelength ($\\mu$m)',fontsize='x-large')\n",
    "    plt.title('Broadband NRES Spectrum of AU Mic | Orders 53-88',fontsize='x-large')\n",
    "    plt.xlim(0.528,0.888)\n",
    "    for order in tqdm(all_orders):\n",
    "        data_path = f'data/NRES/{visit}_spectra/*e92-1d.fits.fz'\n",
    "        nres_rainbow = Rainbow(data_path, format='nres',order=order)\n",
    "        nres_avg_1dspec = nres_rainbow.get_average_spectrum()\n",
    "        nres_avg_1derr = np.nanmedian(nres_rainbow.uncertainty,axis=1)\n",
    "        plt.errorbar(nres_rainbow.wavelength, nres_avg_1dspec,yerr=nres_avg_1derr,alpha = 0.75,\n",
    "                     color = 'k',fmt='|')\n",
    "        i += 1\n",
    "\n",
    "    plt.savefig(f'figs/zoomed_stitched_{visit}_colorless_spectrum.png',dpi=300)"
   ]
  },
  {
   "cell_type": "code",
   "execution_count": null,
   "id": "cd9d9517-4d4c-46ca-af3d-bea1fabd5038",
   "metadata": {},
   "outputs": [],
   "source": [
    "all_orders = [52,53,54,55,56,57,58,59,\n",
    "              60,61,62,63,64,65,66,67,68,69,\n",
    "              70,71,72,73,74,75,76,77,78,79,\n",
    "              80,81,82,83,84,85,86,87,88,89,\n",
    "              90,91,92,93,94,95,96,97,98,99,\n",
    "              100,101,102,103,104,105,106,107,108,109,\n",
    "              110,111,112,113,114,115,116,117,118,119]\n",
    "\n",
    "visits = ['fall','spring']\n",
    "cmap = cm.get_cmap('magma', len(all_orders))\n",
    "colormap = cmap(np.linspace(0, 1, len(all_orders)))\n",
    "\n",
    "for visit in visits:\n",
    "    i = 0\n",
    "    plt.figure(figsize=(10,3))\n",
    "    plt.ylim(0,5)\n",
    "    plt.ylabel(f'Normalized Flux',fontsize='x-large')\n",
    "    plt.xlabel(r'Wavelength ($\\mu$m)',fontsize='x-large')\n",
    "    plt.title('Broadband NRES Spectrum of AU Mic',fontsize='x-large')\n",
    "    plt.xlim(0.39,0.91)\n",
    "    for order in tqdm(all_orders):\n",
    "        data_path = f'data/NRES/{visit}_spectra/*e92-1d.fits.fz'\n",
    "        nres_rainbow = Rainbow(data_path, format='nres',order=order)\n",
    "        nres_avg_1dspec = nres_rainbow.get_average_spectrum()\n",
    "        nres_avg_1derr = np.nanmedian(nres_rainbow.uncertainty,axis=1)\n",
    "        plt.errorbar(nres_rainbow.wavelength, nres_avg_1dspec,yerr=nres_avg_1derr,alpha = 0.75, color = 'k', fmt='|')\n",
    "        i += 1\n",
    "\n",
    "    plt.savefig(f'figs/full_stitched_{visit}_colorless_spectrum.png',dpi=300)"
   ]
  },
  {
   "cell_type": "code",
   "execution_count": null,
   "id": "c6a7e600-35a3-46cf-9545-aca1a9641519",
   "metadata": {},
   "outputs": [],
   "source": []
  }
 ],
 "metadata": {
  "kernelspec": {
   "display_name": "Python 3 (ipykernel)",
   "language": "python",
   "name": "python3"
  },
  "language_info": {
   "codemirror_mode": {
    "name": "ipython",
    "version": 3
   },
   "file_extension": ".py",
   "mimetype": "text/x-python",
   "name": "python",
   "nbconvert_exporter": "python",
   "pygments_lexer": "ipython3",
   "version": "3.9.13"
  }
 },
 "nbformat": 4,
 "nbformat_minor": 5
}
