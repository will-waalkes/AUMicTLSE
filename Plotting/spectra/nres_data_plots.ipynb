{
 "cells": [
  {
   "cell_type": "code",
   "execution_count": null,
   "id": "3ccff5c0-2d6f-4abd-a862-b85e70d49e5d",
   "metadata": {},
   "outputs": [],
   "source": [
    "from chromatic import *\n",
    "import emcee\n",
    "import corner\n",
    "import speclite as speclite\n",
    "import glob as glob\n",
    "from speclite import filters\n",
    "from tqdm import tqdm\n",
    "from matplotlib import cm\n",
    "from matplotlib.artist import Artist\n",
    "from scipy.optimize import minimize\n",
    "from scipy.optimize import curve_fit\n",
    "from PyAstronomy import pyasl\n",
    "from specutils.spectra import Spectrum1D, SpectralRegion\n",
    "from specutils.fitting import fit_generic_continuum\n",
    "\n",
    "params = {'legend.fontsize': 'x-large',\n",
    "          'figure.figsize': (6, 4),\n",
    "         'axes.labelsize': 'x-large',\n",
    "         'axes.titlesize':'x-large',\n",
    "         'xtick.labelsize':'x-large',\n",
    "         'ytick.labelsize':'x-large'}\n",
    "plt.rcParams.update(params)\n",
    "plt.style.use('tableau-colorblind10')\n",
    "\n",
    "transmission_data = np.loadtxt('../data/transmission_comp.dat')\n",
    "mol_wave = transmission_data[:,0]*(1e-3) * u.micron\n",
    "mol_data = transmission_data[:,1]"
   ]
  },
  {
   "cell_type": "code",
   "execution_count": null,
   "id": "ba9b22ee-c2f6-445d-baee-faccd54e2208",
   "metadata": {},
   "outputs": [],
   "source": [
    "def normalized_1T_PHOENIX(Tspec=5000,wavelength=None,**kwargs):\n",
    "        \n",
    "    _model = get_phoenix_photons(temperature=float(Tspec),wavelength=wavelength,\n",
    "                                 logg=4.4, metallicity=0.0)\n",
    "    \n",
    "    _m = _model[1]/np.nanmedian(_model[1])\n",
    "    spectrum = Spectrum1D(flux=_m, spectral_axis=_model[0])\n",
    "    with warnings.catch_warnings():  # Ignore warnings\n",
    "        warnings.simplefilter('ignore')\n",
    "        g1_fit = fit_generic_continuum(spectrum)\n",
    "        continuum_fit = g1_fit(_model[0])\n",
    "        \n",
    "    normed_model = _m/continuum_fit\n",
    "    \n",
    "    return normed_model"
   ]
  },
  {
   "cell_type": "code",
   "execution_count": null,
   "id": "190b7c42-dffb-4208-8c6a-3dc7f78e8c9e",
   "metadata": {},
   "outputs": [],
   "source": [
    "def plot_nres_spectra(data_flux=None, data_err=None,wavelength=None,\n",
    "                      **kwargs):\n",
    "        \n",
    "    fig, [ax0,ax2] = plt.subplots(2,1,figsize=(9,6),sharex=True,gridspec_kw=dict(height_ratios=[1,0.5]))\n",
    "    title_label=f'Visit {visit} Order {order}'\n",
    "    fig.suptitle(title_label,fontsize=16)\n",
    "\n",
    "    for l in range(len(ref_r.timelike['time'])):\n",
    "        ax0.errorbar(ref_r.wavelength,ref_r.flux[:,l], yerr=ref_r.uncertainty[:,l], zorder=-1000,color='gray',\n",
    "                     label='Unprocessed NRES Spectrum',fmt='',alpha=0.01)\n",
    "    ax0.errorbar(wavelength, data_flux, yerr=data_err, zorder=-100,color='deepskyblue',\n",
    "                 label='NRES time-averaged spectrum',fmt='',alpha=0.7)\n",
    "    ax0.set_ylim(0.0,1.5)\n",
    "    ax0.set_ylabel('Relative Flux',fontsize=18)\n",
    "\n",
    "    # The bottom plot, this order's telluric transparency\n",
    "    ax2.plot(this_orders_tellurics['x'], this_orders_tellurics['y'],label='Telluric Spectrum')\n",
    "    ax2.axhline(0.995,color='red',label='Cutoff')\n",
    "    ax2.set_xlabel(r'$\\lambda$ ($\\mu$m)',fontsize=18)\n",
    "    ax2.set_ylabel(r'f$_{\\rm{trans}}$')\n",
    "    ax2.legend(loc='lower left')\n",
    "    ax2.set_ylim(0.95,1.01)\n",
    "    # ax2.set_yscale('log')\n",
    "    ax2.set_xlim(lambda_center.value-0.0075,lambda_center.value+0.0075)\n",
    "\n",
    "    plt.savefig(f'../figs/{visit}_order{order}_nres_spectrum.png',dpi=100)\n",
    "    plt.show()\n",
    "    plt.close()"
   ]
  },
  {
   "cell_type": "code",
   "execution_count": null,
   "id": "3cce826d-bd30-4c46-8801-43adba69b0f2",
   "metadata": {},
   "outputs": [],
   "source": [
    "ordernumbers = np.arange(53,85)\n",
    "visits = ['F21','S22']\n",
    "\n",
    "for visit in tqdm(visits):\n",
    "                \n",
    "    for order in ordernumbers:\n",
    "        \n",
    "        _r = read_rainbow(f\"../data/rainbows/{visit}_{order}_original.rainbow.npy\")\n",
    "        ref_r = _r.trim()\n",
    "        lambda_center = np.nanmedian(_r.wavelength)\n",
    "        this_orders_tellurics = bintogrid(mol_wave.value,mol_data,newx=ref_r.wavelength.value,visualize=False)\n",
    "        nres_rainbow = read_rainbow(f\"../data/rainbows/{visit}_{order}_clipped.rainbow.npy\")\n",
    "        data_wave = nres_rainbow.wavelength\n",
    "        nres_avg_1dspec = nres_rainbow.get_average_spectrum()\n",
    "        nres_avg_1derr = np.nanmedian(nres_rainbow.uncertainty,axis=1)/np.sqrt(len(nres_rainbow.timelike['time']))\n",
    "        template_spec = normalized_1T_PHOENIX(temp=3600,wavelength=data_wave)\n",
    "        rchisq = np.nansum((template_spec-nres_avg_1dspec)**2/(nres_avg_1derr)**2) / (len(data_wave.value)-1)\n",
    "        if rchisq > 1.0:\n",
    "            nres_avg_1derr = nres_avg_1derr * np.sqrt(rchisq)\n",
    "         \n",
    "        plot_nres_spectra(wavelength=data_wave,\n",
    "                          data_flux=nres_avg_1dspec, data_err=nres_avg_1derr)"
   ]
  },
  {
   "cell_type": "code",
   "execution_count": null,
   "id": "e8ef57ed-87e3-4f5f-aca7-3e5b05f41b4e",
   "metadata": {},
   "outputs": [],
   "source": []
  },
  {
   "cell_type": "code",
   "execution_count": null,
   "id": "83b81cce-d015-4938-b5cc-92497e083055",
   "metadata": {},
   "outputs": [],
   "source": []
  }
 ],
 "metadata": {
  "kernelspec": {
   "display_name": "Python 3 (ipykernel)",
   "language": "python",
   "name": "python3"
  },
  "language_info": {
   "codemirror_mode": {
    "name": "ipython",
    "version": 3
   },
   "file_extension": ".py",
   "mimetype": "text/x-python",
   "name": "python",
   "nbconvert_exporter": "python",
   "pygments_lexer": "ipython3",
   "version": "3.9.13"
  }
 },
 "nbformat": 4,
 "nbformat_minor": 5
}
