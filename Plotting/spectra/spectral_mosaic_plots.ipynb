{
 "cells": [
  {
   "cell_type": "code",
   "execution_count": null,
   "id": "bf7e6e18-69a0-4581-b203-d97eb696b3b6",
   "metadata": {},
   "outputs": [],
   "source": [
    "import emcee\n",
    "import corner\n",
    "import speclite as speclite; from speclite import filters\n",
    "from tqdm import tqdm\n",
    "from matplotlib import cm\n",
    "from matplotlib.artist import Artist\n",
    "from chromatic import *\n",
    "from scipy.optimize import minimize\n",
    "from scipy.optimize import curve_fit\n",
    "\n",
    "\n",
    "params = {'legend.fontsize': 'x-large',\n",
    "          'figure.figsize': (6, 4),\n",
    "         'axes.labelsize': 'x-large',\n",
    "         'axes.titlesize':'x-large',\n",
    "         'xtick.labelsize':'x-large',\n",
    "         'ytick.labelsize':'x-large'}\n",
    "plt.rcParams.update(params)\n",
    "plt.style.use('tableau-colorblind10')"
   ]
  },
  {
   "cell_type": "code",
   "execution_count": null,
   "id": "09fdbbd7-366b-47cc-965e-cedae1bee5fd",
   "metadata": {},
   "outputs": [],
   "source": [
    "all_orders = [53,54,55,56,57,58,59,\n",
    "              60,61,62,63,64,65,66,67,68,69,\n",
    "              70,71,72,73,74,75,76,77,78,79,\n",
    "              80,81,82,83,84,85,86] #currently modeling 34 separate orders, do I want to make it a nice square number?\n",
    "\n",
    "for visit in tqdm(['fall','spring']):\n",
    "    \n",
    "    ordernumber = 53\n",
    "    mfig, maxs = plt.subplots(9,4,figsize=(8,10),sharex=True,sharey=True)\n",
    "    maxs[8][0].set_xlabel(r'$\\lambda-\\lambda_{centre}$ ($\\AA$)',fontsize='large')\n",
    "    maxs[8][0].set_ylabel(f'Normalized Flux',fontsize='large')\n",
    "    \n",
    "    for j in tqdm(range(0,9)):\n",
    "        for k in tqdm(range(0,4)):\n",
    "            print(visit,ordernumber,j,k)\n",
    "            preproc_rainbow,nres_avg_1dspec,nres_avg_1derr,data_wave,model = initialize(order=ordernumber,visit=visit,dw=0.05*u.nm)\n",
    "\n",
    "            # Define the x axis by the median wavelength in each preprocessed avg spec\n",
    "            preproc_avg_1dspec = preproc_rainbow.get_average_spectrum()\n",
    "            preproc_avg_1derr = np.nanmedian(preproc_rainbow.uncertainty,axis=1)\n",
    "            li = preproc_rainbow.wavelength[0].value\n",
    "            lf = preproc_rainbow.wavelength[-1].value\n",
    "            lcentre = ((lf-li)/2 + li)\n",
    "\n",
    "            maxs[j][k].set_title(f'{ordernumber}')\n",
    "            maxs[j][k].set_ylim(0.5,1.2)\n",
    "            # plot the pre-processed data with errorbars\n",
    "            maxs[j][k].plot((preproc_rainbow.wavelength.value - lcentre)*10,preproc_avg_1dspec,\n",
    "                            zorder=-10,color = 'gray',alpha=0.6,linewidth=1)\n",
    "            # plot the processed data with errorbars\n",
    "            maxs[j][k].plot((data_wave.value - lcentre)*10,nres_avg_1dspec,\n",
    "                            zorder=0,color = 'black',alpha=0.6,linewidth=1)\n",
    "            # plot an example model\n",
    "            maxs[j][k].plot((data_wave.value - lcentre)*10,model,\n",
    "                            zorder=10,color = 'turquoise',alpha=0.6,linewidth=1)\n",
    "            \n",
    "            ordernumber += 1\n",
    "            \n",
    "    plt.savefig(f'../figs/{visit}_SpectralMosaic.png',dpi=100)\n",
    "    plt.show()"
   ]
  },
  {
   "cell_type": "code",
   "execution_count": null,
   "id": "c6a7e600-35a3-46cf-9545-aca1a9641519",
   "metadata": {},
   "outputs": [],
   "source": []
  }
 ],
 "metadata": {
  "kernelspec": {
   "display_name": "Python 3 (ipykernel)",
   "language": "python",
   "name": "python3"
  },
  "language_info": {
   "codemirror_mode": {
    "name": "ipython",
    "version": 3
   },
   "file_extension": ".py",
   "mimetype": "text/x-python",
   "name": "python",
   "nbconvert_exporter": "python",
   "pygments_lexer": "ipython3",
   "version": "3.9.13"
  }
 },
 "nbformat": 4,
 "nbformat_minor": 5
}
